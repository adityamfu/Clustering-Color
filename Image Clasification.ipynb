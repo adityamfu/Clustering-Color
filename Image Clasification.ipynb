{
 "cells": [
  {
   "cell_type": "code",
   "execution_count": 36,
   "id": "e67369cf",
   "metadata": {},
   "outputs": [
    {
     "name": "stderr",
     "output_type": "stream",
     "text": [
      "Ultralytics YOLOv8.0.43 🚀 Python-3.11.5 torch-2.1.0+cu121 CPU\n",
      "YOLOv8n summary (fused): 168 layers, 3151904 parameters, 0 gradients, 8.7 GFLOPs\n",
      "\n",
      "image 1/1 /home/adib/Documents/Project/Python Machine Learning/bus.jpg: 640x480 4 persons, 1 bus, 1 stop sign, 1663.2ms\n",
      "Speed: 10.1ms preprocess, 1663.2ms inference, 5.6ms postprocess per image at shape (1, 3, 640, 640)\n"
     ]
    }
   ],
   "source": [
    "from ultralytics import YOLO\n",
    "import cv2\n",
    "import matplotlib.pyplot as plt\n",
    "import matplotlib\n",
    "matplotlib.use('TkAgg')\n",
    "\n",
    "# Load a model\n",
    "model = YOLO('yolov8n.pt')  # load a pretrained model (recommended for training)\n",
    "\n",
    "results = model('bus.jpg')  # predict on an image\n",
    "\n",
    "for r in results:\n",
    "    res = r.boxes.numpy()\n",
    "    item = res.boxes[:,5]\n",
    "    rec = r.boxes.xyxy.numpy()\n",
    "\n",
    "    # read image \n",
    "    image = cv2.imread(r.path)\n",
    "    image = cv2.cvtColor(image, cv2.COLOR_BGR2RGB)\n",
    "    \n",
    "    for i in range(len(rec)):\n",
    "        x1 = int(rec[i][0])\n",
    "        y1 = int(rec[i][1])\n",
    "        x2 = int(rec[i][2])\n",
    "        y2 = int(rec[i][3])\n",
    "        cv2.rectangle(image, (x1,y1), (x2,y2),\n",
    "              color=(0, 255, 0), thickness=5)\n",
    "\n",
    "# call imshow() using plt object \n",
    "plt.imshow(image) \n",
    "\n",
    "# display that image \n",
    "plt.show()"
   ]
  },
  {
   "cell_type": "code",
   "execution_count": null,
   "id": "460a5f52",
   "metadata": {},
   "outputs": [],
   "source": []
  }
 ],
 "metadata": {
  "kernelspec": {
   "display_name": "Python 3 (ipykernel)",
   "language": "python",
   "name": "python3"
  },
  "language_info": {
   "codemirror_mode": {
    "name": "ipython",
    "version": 3
   },
   "file_extension": ".py",
   "mimetype": "text/x-python",
   "name": "python",
   "nbconvert_exporter": "python",
   "pygments_lexer": "ipython3",
   "version": "3.11.5"
  }
 },
 "nbformat": 4,
 "nbformat_minor": 5
}
